{
 "cells": [
  {
   "cell_type": "code",
   "execution_count": 1,
   "id": "a5f0ab53",
   "metadata": {},
   "outputs": [],
   "source": [
    "import numpy as np\n",
    "\n",
    "def generate_price_paths(S0, r, sigma, T, M, I):\n",
    "    dt = T / M\n",
    "    paths = np.zeros((M + 1, I))\n",
    "    paths[0] = S0\n",
    "    for t in range(1, M + 1):\n",
    "        z = np.random.standard_normal(I)\n",
    "        paths[t] = paths[t - 1] * np.exp((r - 0.5 * sigma ** 2) * dt + sigma * np.sqrt(dt) * z)\n",
    "    return paths\n"
   ]
  },
  {
   "cell_type": "code",
   "execution_count": 2,
   "id": "f5b55c4b",
   "metadata": {},
   "outputs": [],
   "source": [
    "from keras.models import Sequential\n",
    "from keras.layers import Dense\n",
    "\n",
    "def create_neural_network(input_dim):\n",
    "    model = Sequential()\n",
    "    model.add(Dense(50, input_dim=input_dim, activation='relu'))\n",
    "    model.add(Dense(30, activation='relu'))\n",
    "    model.add(Dense(1, activation='linear'))\n",
    "    model.compile(loss='mean_squared_error', optimizer='adam')\n",
    "    return model\n"
   ]
  },
  {
   "cell_type": "code",
   "execution_count": 3,
   "id": "cc56a7bc",
   "metadata": {},
   "outputs": [],
   "source": [
    "def longstaff_schwartz(paths, K, r, T, M):\n",
    "    # Initialize the cash flow matrix\n",
    "    cash_flows = np.maximum(paths[-1] - K, 0)\n",
    "\n",
    "    # Iterate backwards in time\n",
    "    for t in range(M-1, 0, -1):\n",
    "        in_the_money = paths[t] > K\n",
    "        X = paths[t, in_the_money]\n",
    "        Y = np.exp(-r * T/M) * cash_flows[in_the_money]\n",
    "        \n",
    "        model = create_neural_network(input_dim=1)\n",
    "        model.fit(X, Y, epochs=5, verbose=0)\n",
    "        \n",
    "        continuation_values = model.predict(X)\n",
    "        exercise_values = np.maximum(K - paths[t, in_the_money], 0)\n",
    "        exercise = exercise_values > continuation_values.squeeze()\n",
    "        \n",
    "        cash_flows[in_the_money] = np.where(exercise, exercise_values, np.exp(-r * T/M) * cash_flows[in_the_money])\n",
    "\n",
    "    return [np.mean(cash_flows) * np.exp(-r * T), cash_flows]\n"
   ]
  },
  {
   "cell_type": "code",
   "execution_count": 18,
   "id": "5563835d",
   "metadata": {},
   "outputs": [
    {
     "name": "stdout",
     "output_type": "stream",
     "text": [
      "172/172 [==============================] - 0s 1ms/step\n",
      "170/170 [==============================] - 0s 1ms/step\n",
      "Estimated Option Price: 10.304806532134267\n"
     ]
    }
   ],
   "source": [
    "S0 = 100         # Initial stock price\n",
    "K = 100          # Strike price\n",
    "T = 1            # Time to maturity\n",
    "r = 0.05         # Risk-free rate\n",
    "sigma = 0.2      # Volatility\n",
    "M = 3            # Number of time steps\n",
    "I = 10000        # Number of simulation paths\n",
    "\n",
    "paths = generate_price_paths(S0, r, sigma, T, M, I)\n",
    "option_price,cash_flows = longstaff_schwartz(paths, K, r, T, M)\n",
    "print(f\"Estimated Option Price: {option_price}\")"
   ]
  },
  {
   "cell_type": "code",
   "execution_count": 19,
   "id": "1c5be0ee",
   "metadata": {},
   "outputs": [],
   "source": [
    "def calculate_pnl(paths, cash_flows, option_price, K):\n",
    "    payoffs = np.maximum(paths[-1] - K, 0)\n",
    "    pnl = cash_flows - option_price\n",
    "    return pnl"
   ]
  },
  {
   "cell_type": "code",
   "execution_count": 20,
   "id": "bdd7be5e",
   "metadata": {},
   "outputs": [],
   "source": [
    "import matplotlib.pyplot as plt\n",
    "\n",
    "def plot_pnl_distribution(pnl):\n",
    "    plt.figure(figsize=(10, 6))\n",
    "    plt.hist(pnl, bins=50, alpha=0.7)\n",
    "    plt.title(\"Profit and Loss Distribution\")\n",
    "    plt.xlabel(\"Profit/Loss\")\n",
    "    plt.ylabel(\"Frequency\")\n",
    "    plt.grid(True)\n",
    "    plt.show()"
   ]
  },
  {
   "cell_type": "code",
   "execution_count": 21,
   "id": "a3b89df8",
   "metadata": {},
   "outputs": [
    {
     "data": {
      "image/png": "[encoded data removed]",
      "text/plain": [
       "<Figure size 720x432 with 1 Axes>"
      ]
     },
     "metadata": {
      "needs_background": "light"
     },
     "output_type": "display_data"
    }
   ],
   "source": [
    "pnl = calculate_pnl(paths, cash_flows, option_price, K)\n",
    "\n",
    "# Plot P&L Distribution\n",
    "plot_pnl_distribution(pnl)"
   ]
  },
  {
   "cell_type": "code",
   "execution_count": 22,
   "id": "6a827ff4",
   "metadata": {},
   "outputs": [],
   "source": [
    "def calculate_deltas(paths, cash_flows, K, r, T, M):\n",
    "    dt = T / M\n",
    "    deltas = np.zeros_like(paths)\n",
    "\n",
    "    for t in range(1, M):\n",
    "        up_paths = paths.copy()\n",
    "        down_paths = paths.copy()\n",
    "        up_paths[t:] *= 1.01\n",
    "        down_paths[t:] *= 0.99\n",
    "\n",
    "        up_value = longstaff_schwartz(up_paths, K, r, T, M)[0]\n",
    "        down_value = longstaff_schwartz(down_paths, K, r, T, M)[0]\n",
    "        \n",
    "        deltas[t] = (up_value - down_value) / (0.02 * paths[t])\n",
    "\n",
    "    return deltas"
   ]
  },
  {
   "cell_type": "code",
   "execution_count": 23,
   "id": "a4cff37e",
   "metadata": {},
   "outputs": [],
   "source": [
    "def calculate_pnl_with_hedging(paths, cash_flows, deltas, S0, r, T, M):\n",
    "    dt = T / M\n",
    "    pnl = np.zeros_like(cash_flows)\n",
    "\n",
    "    for t in range(1, M):\n",
    "        hedge_amount = deltas[t] * paths[t]\n",
    "        pnl += hedge_amount * (paths[t + 1] - paths[t]) - r * hedge_amount * dt\n",
    "\n",
    "    pnl += cash_flows - np.exp(-r * T) * hedge_amount\n",
    "    return pnl"
   ]
  },
  {
   "cell_type": "code",
   "execution_count": 24,
   "id": "be031199",
   "metadata": {},
   "outputs": [
    {
     "name": "stdout",
     "output_type": "stream",
     "text": [
      "179/179 [==============================] - 0s 976us/step\n",
      "180/180 [==============================] - 0s 1ms/step\n",
      "164/164 [==============================] - 0s 1ms/step\n",
      "157/157 [==============================] - 0s 1ms/step\n",
      "179/179 [==============================] - 0s 1ms/step\n",
      "170/170 [==============================] - 0s 2ms/step\n",
      "164/164 [==============================] - 0s 1ms/step\n",
      "170/170 [==============================] - 0s 935us/step\n"
     ]
    },
    {
     "data": {
      "image/png": "[encoded data removed]",
      "text/plain": [
       "<Figure size 720x432 with 1 Axes>"
      ]
     },
     "metadata": {
      "needs_background": "light"
     },
     "output_type": "display_data"
    }
   ],
   "source": [
    "deltas = calculate_deltas(paths, cash_flows, K, r, T, M)\n",
    "pnl_hedged = calculate_pnl_with_hedging(paths, cash_flows, deltas, S0, r, T, M)\n",
    "\n",
    "# Plot P&L Distribution for Hedged Portfolio\n",
    "plot_pnl_distribution(pnl_hedged)"
   ]
  }
 ],
 "metadata": {
  "kernelspec": {
   "display_name": "Python 3 (ipykernel)",
   "language": "python",
   "name": "python3"
  },
  "language_info": {
   "codemirror_mode": {
    "name": "ipython",
    "version": 3
   },
   "file_extension": ".py",
   "mimetype": "text/x-python",
   "name": "python",
   "nbconvert_exporter": "python",
   "pygments_lexer": "ipython3",
   "version": "3.9.12"
  }
 },
 "nbformat": 4,
 "nbformat_minor": 5
}
